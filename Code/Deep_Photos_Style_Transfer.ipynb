{
 "cells": [
  {
   "cell_type": "markdown",
   "metadata": {},
   "source": [
    "# Deep Photo Style Transfer: The main code parts are in the .py file\n"
   ]
  },
  {
   "cell_type": "markdown",
   "metadata": {},
   "source": [
    "Our goal is to apply deep photo style transfer onto two content images that though resemble Van Gogh's paintings in terms of the objects, but differ a little in the posiion these objects are placed at and the angles they're captured at.\n",
    "\n",
    "The first set of images is a sunflower image as the content image and an autumn background as the style image. Here is the command to run the deep photo style transfer onto this set of images: \n",
    "\n",
    "```python deep_photostyle.py --content_image_path ./examples/sunflower.jpg --style_image_path ./examples/sunflower_style.jpg --content_seg_path ./examples/sunflower.jpg --style_seg_path ./examples/sunflower_style.jpg --style_option 2 ```\n",
    "\n",
    "The second set of images is a tree image as the content image and a wheat field as the style image. Here is the command to run the deep photo style transfer onto this set of images: \n",
    "\n",
    "```python deep_photostyle.py --content_image_path ./examples/tree.jpg --style_image_path ./examples/field.jpg --content_seg_path ./examples/tree.jpg --style_seg_path ./examples/field.jpg --style_option 2 ```\n"
   ]
  }
 ],
 "metadata": {
  "kernelspec": {
   "display_name": "Python 3",
   "language": "python",
   "name": "python3"
  },
  "language_info": {
   "codemirror_mode": {
    "name": "ipython",
    "version": 3
   },
   "file_extension": ".py",
   "mimetype": "text/x-python",
   "name": "python",
   "nbconvert_exporter": "python",
   "pygments_lexer": "ipython3",
   "version": "3.6.8"
  }
 },
 "nbformat": 4,
 "nbformat_minor": 2
}
